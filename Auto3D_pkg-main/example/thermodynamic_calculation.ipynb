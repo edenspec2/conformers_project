{
 "cells": [
  {
   "cell_type": "markdown",
   "metadata": {},
   "source": [
    "`Auto3D` is mainly designed for generating low-energy 3D structures from the SMILES. It aslo provides a wrapper function `calc_thermo` to get enthalpy, entropy and Gibbs free energy from the 3D structures. Please note that the thermodynamic calculations are in vaccum."
   ]
  },
  {
   "cell_type": "code",
   "execution_count": 1,
   "metadata": {},
   "outputs": [],
   "source": [
    "import os, sys\n",
    "root = os.path.dirname(os.path.dirname(os.path.abspath(\"__file__\")))\n",
    "sys.path.append(root)\n",
    "\n",
    "import Auto3D\n",
    "from Auto3D.auto3D import options, main"
   ]
  },
  {
   "cell_type": "code",
   "execution_count": 2,
   "metadata": {},
   "outputs": [
    {
     "name": "stdout",
     "output_type": "stream",
     "text": [
      "0.1.9\n"
     ]
    }
   ],
   "source": [
    "#Always ensure that you have the latest version\n",
    "print(Auto3D.__version__)"
   ]
  },
  {
   "cell_type": "markdown",
   "metadata": {},
   "source": [
    "# Generate low-energy conformers with Auto3D\n",
    "\n",
    "Thermodynamic calculations requires proper 3D structures as the input. This time, we will use `ANI2x` as the optimizing engine. `ANI2x` and `ANI2xt` are easy to converge in the later thermodynamic analysis."
   ]
  },
  {
   "cell_type": "code",
   "execution_count": 3,
   "metadata": {},
   "outputs": [
    {
     "name": "stdout",
     "output_type": "stream",
     "text": [
      "Checking input file...\n",
      "\tThere are 4 SMILES in the input file /Users/liu5/Documents/Auto3D_pkg/example/files/smiles.smi. \n",
      "\tAll SMILES and IDs are valid.\n",
      "Suggestions for choosing isomer_engine and optimizing_engine: \n",
      "\tIsomer engine options: RDKit and Omega.\n",
      "\tOptimizing engine options: ANI2x, ANI_2xt and AIMNET.\n",
      "There are 4 SMILES, available memory is 16.0 GB.\n",
      "The task will be divided into 1 jobs.\n",
      "Job1, number of inputs: 4\n",
      "\n",
      "\n",
      "Isomer generation for job1\n",
      "Enumerating conformers/rotamers, removing duplicates...\n",
      "\n",
      "\n",
      "Optimizing on job1\n"
     ]
    },
    {
     "name": "stderr",
     "output_type": "stream",
     "text": [
      "100%|██████████| 4/4 [00:00<00:00, 74.66it/s]\n",
      "/opt/anaconda3/envs/py39/lib/python3.9/site-packages/torch/functional.py:1069: UserWarning: torch.meshgrid: in an upcoming release, it will be required to pass the indexing argument. (Triggered internally at  /Users/distiller/project/conda/conda-bld/pytorch_1640812094853/work/aten/src/ATen/native/TensorShape.cpp:2157.)\n",
      "  return _VF.cartesian_prod(tensors)  # type: ignore[attr-defined]\n"
     ]
    },
    {
     "name": "stdout",
     "output_type": "stream",
     "text": [
      "Preparing for parallel optimizing... (Max optimization steps: 5000)\n",
      "Total 3D conformers: 14\n"
     ]
    },
    {
     "name": "stderr",
     "output_type": "stream",
     "text": [
      "  0%|          | 0/5000 [00:00<?, ?it/s]/opt/anaconda3/envs/py39/lib/python3.9/site-packages/torchani/aev.py:236: UserWarning: __floordiv__ is deprecated, and its behavior will change in a future version of pytorch. It currently rounds toward 0 (like the 'trunc' function NOT 'floor'). This results in incorrect rounding for negative values. To keep the current behavior, use torch.div(a, b, rounding_mode='trunc'), or for actual floor division, use torch.div(a, b, rounding_mode='floor').\n",
      "  pair_sizes = counts * (counts - 1) // 2\n",
      " 10%|▉         | 497/5000 [00:38<03:43, 20.12it/s]"
     ]
    },
    {
     "name": "stdout",
     "output_type": "stream",
     "text": [
      "Total 3D structures: 14  Converged: 7   Active: 7\n"
     ]
    },
    {
     "name": "stderr",
     "output_type": "stream",
     "text": [
      " 20%|██        | 1001/5000 [01:02<02:20, 28.44it/s]"
     ]
    },
    {
     "name": "stdout",
     "output_type": "stream",
     "text": [
      "Total 3D structures: 14  Converged: 10   Active: 4\n"
     ]
    },
    {
     "name": "stderr",
     "output_type": "stream",
     "text": [
      " 30%|███       | 1503/5000 [01:13<01:07, 51.71it/s]"
     ]
    },
    {
     "name": "stdout",
     "output_type": "stream",
     "text": [
      "Total 3D structures: 14  Converged: 13   Active: 1\n"
     ]
    },
    {
     "name": "stderr",
     "output_type": "stream",
     "text": [
      " 40%|███▉      | 1995/5000 [01:22<00:56, 52.84it/s]"
     ]
    },
    {
     "name": "stdout",
     "output_type": "stream",
     "text": [
      "Total 3D structures: 14  Converged: 13   Active: 1\n"
     ]
    },
    {
     "name": "stderr",
     "output_type": "stream",
     "text": [
      " 47%|████▋     | 2330/5000 [01:28<01:41, 26.28it/s]\n"
     ]
    },
    {
     "name": "stdout",
     "output_type": "stream",
     "text": [
      "All structures converged at step 2331:   Total 3D structures: 14  Converged: 14   Active: 0\n",
      "Beggin to slelect structures that satisfy the requirements...\n",
      "Energy unit: Hartree if implicit.\n",
      "Program running time: 1 minutes\n",
      "/Users/liu5/Documents/Auto3D_pkg/example/files/20220627-111133_smiles/smiles_out.sdf\n"
     ]
    }
   ],
   "source": [
    "if __name__ == \"__main__\":\n",
    "    path = os.path.join(root, \"example/files/smiles.smi\")\n",
    "    args = options(path, k=1, optimizing_engine=\"ANI2x\", use_gpu=False)   #args specify the parameters for Auto3D \n",
    "    out = main(args)            #main acceps the parameters and run Auto3D\n",
    "    print(out)"
   ]
  },
  {
   "cell_type": "markdown",
   "metadata": {},
   "source": [
    "# Calculate thermodynamic properties with the 3D structures"
   ]
  },
  {
   "cell_type": "code",
   "execution_count": 4,
   "metadata": {},
   "outputs": [],
   "source": [
    "from Auto3D.ASE.thermo import calc_thermo"
   ]
  },
  {
   "cell_type": "code",
   "execution_count": 7,
   "metadata": {},
   "outputs": [
    {
     "name": "stdout",
     "output_type": "stream",
     "text": [
      "      Step     Time          Energy         fmax\n",
      "BFGS:    0 11:17:09   -13045.662981        0.0057\n",
      "BFGS:    1 11:17:09   -13045.662983        0.0045\n",
      "BFGS:    2 11:17:09   -13045.662985        0.0026\n"
     ]
    },
    {
     "name": "stderr",
     "output_type": "stream",
     "text": [
      "/opt/anaconda3/envs/py39/lib/python3.9/site-packages/torchani/aev.py:236: UserWarning: __floordiv__ is deprecated, and its behavior will change in a future version of pytorch. It currently rounds toward 0 (like the 'trunc' function NOT 'floor'). This results in incorrect rounding for negative values. To keep the current behavior, use torch.div(a, b, rounding_mode='trunc'), or for actual floor division, use torch.div(a, b, rounding_mode='floor').\n",
      "  pair_sizes = counts * (counts - 1) // 2\n"
     ]
    },
    {
     "name": "stdout",
     "output_type": "stream",
     "text": [
      "Enthalpy components at T = 298.00 K:\n",
      "===============================\n",
      "E_pot             -13045.663 eV\n",
      "E_ZPE                  5.113 eV\n",
      "Cv_trans (0->T)        0.039 eV\n",
      "Cv_rot (0->T)          0.039 eV\n",
      "Cv_vib (0->T)          0.197 eV\n",
      "(C_v -> C_p)           0.026 eV\n",
      "-------------------------------\n",
      "H                 -13040.250 eV\n",
      "===============================\n",
      "Entropy components at T = 298.00 K and P = 101325.0 Pa:\n",
      "=================================================\n",
      "                           S               T*S\n",
      "S_trans (1 bar)    0.0017751 eV/K        0.529 eV\n",
      "S_rot              0.0013168 eV/K        0.392 eV\n",
      "S_elec             0.0000000 eV/K        0.000 eV\n",
      "S_vib              0.0012337 eV/K        0.368 eV\n",
      "S (1 bar -> P)    -0.0000011 eV/K       -0.000 eV\n",
      "-------------------------------------------------\n",
      "S                  0.0043244 eV/K        1.289 eV\n",
      "=================================================\n",
      "Enthalpy components at T = 298.00 K:\n",
      "===============================\n",
      "E_pot             -13045.663 eV\n",
      "E_ZPE                  5.113 eV\n",
      "Cv_trans (0->T)        0.039 eV\n",
      "Cv_rot (0->T)          0.039 eV\n",
      "Cv_vib (0->T)          0.197 eV\n",
      "(C_v -> C_p)           0.026 eV\n",
      "-------------------------------\n",
      "H                 -13040.250 eV\n",
      "===============================\n",
      "\n",
      "Entropy components at T = 298.00 K and P = 101325.0 Pa:\n",
      "=================================================\n",
      "                           S               T*S\n",
      "S_trans (1 bar)    0.0017751 eV/K        0.529 eV\n",
      "S_rot              0.0013168 eV/K        0.392 eV\n",
      "S_elec             0.0000000 eV/K        0.000 eV\n",
      "S_vib              0.0012337 eV/K        0.368 eV\n",
      "S (1 bar -> P)    -0.0000011 eV/K       -0.000 eV\n",
      "-------------------------------------------------\n",
      "S                  0.0043244 eV/K        1.289 eV\n",
      "=================================================\n",
      "\n",
      "Free energy components at T = 298.00 K and P = 101325.0 Pa:\n",
      "=======================\n",
      "    H     -13040.250 eV\n",
      " -T*S         -1.289 eV\n",
      "-----------------------\n",
      "    G     -13041.539 eV\n",
      "=======================\n",
      "-479.26774505326506\n",
      "      Step     Time          Energy         fmax\n",
      "BFGS:    0 11:17:13    -6324.138550        0.0038\n",
      "BFGS:    1 11:17:13    -6324.138550        0.0032\n",
      "BFGS:    2 11:17:13    -6324.138549        0.0038\n",
      "BFGS:    3 11:17:13    -6324.138554        0.0098\n",
      "BFGS:    4 11:17:13    -6324.138561        0.0145\n",
      "BFGS:    5 11:17:13    -6324.138573        0.0205\n",
      "BFGS:    6 11:17:13    -6324.138597        0.0273\n",
      "BFGS:    7 11:17:13    -6324.138643        0.0290\n",
      "BFGS:    8 11:17:13    -6324.138714        0.0266\n",
      "BFGS:    9 11:17:14    -6324.138769        0.0217\n",
      "BFGS:   10 11:17:14    -6324.138831        0.0180\n",
      "BFGS:   11 11:17:14    -6324.138887        0.0238\n",
      "BFGS:   12 11:17:14    -6324.138938        0.0212\n",
      "BFGS:   13 11:17:14    -6324.138970        0.0134\n",
      "BFGS:   14 11:17:14    -6324.138983        0.0077\n",
      "BFGS:   15 11:17:14    -6324.138986        0.0050\n",
      "BFGS:   16 11:17:14    -6324.138989        0.0034\n",
      "BFGS:   17 11:17:14    -6324.138992        0.0030\n",
      "BFGS:   18 11:17:14    -6324.138992        0.0027\n",
      "Enthalpy components at T = 298.00 K:\n",
      "===============================\n",
      "E_pot              -6324.139 eV\n",
      "E_ZPE                  3.135 eV\n",
      "Cv_trans (0->T)        0.039 eV\n",
      "Cv_rot (0->T)          0.039 eV\n",
      "Cv_vib (0->T)          0.096 eV\n",
      "(C_v -> C_p)           0.026 eV\n",
      "-------------------------------\n",
      "H                  -6320.805 eV\n",
      "===============================\n",
      "Entropy components at T = 298.00 K and P = 101325.0 Pa:\n",
      "=================================================\n",
      "                           S               T*S\n",
      "S_trans (1 bar)    0.0016811 eV/K        0.501 eV\n",
      "S_rot              0.0011113 eV/K        0.331 eV\n",
      "S_elec             0.0000000 eV/K        0.000 eV\n",
      "S_vib              0.0006128 eV/K        0.183 eV\n",
      "S (1 bar -> P)    -0.0000011 eV/K       -0.000 eV\n",
      "-------------------------------------------------\n",
      "S                  0.0034041 eV/K        1.014 eV\n",
      "=================================================\n",
      "Enthalpy components at T = 298.00 K:\n",
      "===============================\n",
      "E_pot              -6324.139 eV\n",
      "E_ZPE                  3.135 eV\n",
      "Cv_trans (0->T)        0.039 eV\n",
      "Cv_rot (0->T)          0.039 eV\n",
      "Cv_vib (0->T)          0.096 eV\n",
      "(C_v -> C_p)           0.026 eV\n",
      "-------------------------------\n",
      "H                  -6320.805 eV\n",
      "===============================\n",
      "\n",
      "Entropy components at T = 298.00 K and P = 101325.0 Pa:\n",
      "=================================================\n",
      "                           S               T*S\n",
      "S_trans (1 bar)    0.0016811 eV/K        0.501 eV\n",
      "S_rot              0.0011113 eV/K        0.331 eV\n",
      "S_elec             0.0000000 eV/K        0.000 eV\n",
      "S_vib              0.0006128 eV/K        0.183 eV\n",
      "S (1 bar -> P)    -0.0000011 eV/K       -0.000 eV\n",
      "-------------------------------------------------\n",
      "S                  0.0034041 eV/K        1.014 eV\n",
      "=================================================\n",
      "\n",
      "Free energy components at T = 298.00 K and P = 101325.0 Pa:\n",
      "=======================\n",
      "    H      -6320.805 eV\n",
      " -T*S         -1.014 eV\n",
      "-----------------------\n",
      "    G      -6321.820 eV\n",
      "=======================\n",
      "-232.32259230870434\n",
      "      Step     Time          Energy         fmax\n",
      "BFGS:    0 11:17:16    -9406.938704        0.0045\n",
      "BFGS:    1 11:17:16    -9406.938707        0.0056\n",
      "BFGS:    2 11:17:16    -9406.938705        0.0031\n",
      "BFGS:    3 11:17:16    -9406.938709        0.0048\n",
      "BFGS:    4 11:17:16    -9406.938715        0.0184\n",
      "BFGS:    5 11:17:16    -9406.938727        0.0212\n",
      "BFGS:    6 11:17:16    -9406.938743        0.0260\n",
      "BFGS:    7 11:17:16    -9406.938769        0.0203\n",
      "BFGS:    8 11:17:16    -9406.938801        0.0143\n",
      "BFGS:    9 11:17:16    -9406.938832        0.0246\n",
      "BFGS:   10 11:17:16    -9406.938855        0.0217\n",
      "BFGS:   11 11:17:16    -9406.938870        0.0091\n",
      "BFGS:   12 11:17:16    -9406.938875        0.0055\n",
      "BFGS:   13 11:17:16    -9406.938878        0.0084\n",
      "BFGS:   14 11:17:16    -9406.938879        0.0070\n",
      "BFGS:   15 11:17:16    -9406.938881        0.0031\n",
      "BFGS:   16 11:17:16    -9406.938883        0.0017\n",
      "Enthalpy components at T = 298.00 K:\n",
      "===============================\n",
      "E_pot              -9406.939 eV\n",
      "E_ZPE                  3.437 eV\n",
      "Cv_trans (0->T)        0.039 eV\n",
      "Cv_rot (0->T)          0.039 eV\n",
      "Cv_vib (0->T)          0.140 eV\n",
      "(C_v -> C_p)           0.026 eV\n",
      "-------------------------------\n",
      "H                  -9403.259 eV\n",
      "===============================\n",
      "Entropy components at T = 298.00 K and P = 101325.0 Pa:\n",
      "=================================================\n",
      "                           S               T*S\n",
      "S_trans (1 bar)    0.0017235 eV/K        0.514 eV\n",
      "S_rot              0.0011975 eV/K        0.357 eV\n",
      "S_elec             0.0000000 eV/K        0.000 eV\n",
      "S_vib              0.0008419 eV/K        0.251 eV\n",
      "S (1 bar -> P)    -0.0000011 eV/K       -0.000 eV\n",
      "-------------------------------------------------\n",
      "S                  0.0037618 eV/K        1.121 eV\n",
      "=================================================\n",
      "Enthalpy components at T = 298.00 K:\n",
      "===============================\n",
      "E_pot              -9406.939 eV\n",
      "E_ZPE                  3.437 eV\n",
      "Cv_trans (0->T)        0.039 eV\n",
      "Cv_rot (0->T)          0.039 eV\n",
      "Cv_vib (0->T)          0.140 eV\n",
      "(C_v -> C_p)           0.026 eV\n",
      "-------------------------------\n",
      "H                  -9403.259 eV\n",
      "===============================\n",
      "\n",
      "Entropy components at T = 298.00 K and P = 101325.0 Pa:\n",
      "=================================================\n",
      "                           S               T*S\n",
      "S_trans (1 bar)    0.0017235 eV/K        0.514 eV\n",
      "S_rot              0.0011975 eV/K        0.357 eV\n",
      "S_elec             0.0000000 eV/K        0.000 eV\n",
      "S_vib              0.0008419 eV/K        0.251 eV\n",
      "S (1 bar -> P)    -0.0000011 eV/K       -0.000 eV\n",
      "-------------------------------------------------\n",
      "S                  0.0037618 eV/K        1.121 eV\n",
      "=================================================\n",
      "\n",
      "Free energy components at T = 298.00 K and P = 101325.0 Pa:\n",
      "=======================\n",
      "    H      -9403.259 eV\n",
      " -T*S         -1.121 eV\n",
      "-----------------------\n",
      "    G      -9404.380 eV\n",
      "=======================\n",
      "-345.6045995172951\n",
      "      Step     Time          Energy         fmax\n",
      "BFGS:    0 11:17:18    -9499.108881        0.0038\n",
      "BFGS:    1 11:17:18    -9499.108884        0.0036\n",
      "BFGS:    2 11:17:18    -9499.108884        0.0040\n",
      "BFGS:    3 11:17:18    -9499.108889        0.0078\n",
      "BFGS:    4 11:17:18    -9499.108902        0.0151\n",
      "BFGS:    5 11:17:18    -9499.108930        0.0215\n",
      "BFGS:    6 11:17:18    -9499.108983        0.0283\n",
      "BFGS:    7 11:17:18    -9499.109079        0.0356\n",
      "BFGS:    8 11:17:18    -9499.109228        0.0405\n",
      "BFGS:    9 11:17:19    -9499.109409        0.0454\n",
      "BFGS:   10 11:17:19    -9499.109622        0.0358\n",
      "BFGS:   11 11:17:19    -9499.109857        0.0347\n",
      "BFGS:   12 11:17:19    -9499.110011        0.0342\n",
      "BFGS:   13 11:17:19    -9499.110191        0.0267\n",
      "BFGS:   14 11:17:19    -9499.110286        0.0321\n",
      "BFGS:   15 11:17:19    -9499.110389        0.0327\n",
      "BFGS:   16 11:17:19    -9499.110474        0.0256\n",
      "BFGS:   17 11:17:19    -9499.110587        0.0222\n",
      "BFGS:   18 11:17:19    -9499.110628        0.0189\n",
      "BFGS:   19 11:17:19    -9499.110670        0.0154\n",
      "BFGS:   20 11:17:19    -9499.110685        0.0104\n",
      "BFGS:   21 11:17:19    -9499.110701        0.0085\n",
      "BFGS:   22 11:17:19    -9499.110717        0.0087\n",
      "BFGS:   23 11:17:19    -9499.110732        0.0091\n",
      "BFGS:   24 11:17:19    -9499.110746        0.0095\n",
      "BFGS:   25 11:17:19    -9499.110764        0.0090\n",
      "BFGS:   26 11:17:19    -9499.110777        0.0069\n",
      "BFGS:   27 11:17:19    -9499.110787        0.0069\n",
      "BFGS:   28 11:17:19    -9499.110797        0.0067\n",
      "BFGS:   29 11:17:19    -9499.110807        0.0077\n",
      "BFGS:   30 11:17:19    -9499.110816        0.0060\n",
      "BFGS:   31 11:17:19    -9499.110820        0.0075\n",
      "BFGS:   32 11:17:19    -9499.110824        0.0047\n",
      "BFGS:   33 11:17:19    -9499.110828        0.0033\n",
      "BFGS:   34 11:17:19    -9499.110835        0.0037\n",
      "BFGS:   35 11:17:19    -9499.110836        0.0042\n",
      "BFGS:   36 11:17:19    -9499.110839        0.0041\n",
      "BFGS:   37 11:17:19    -9499.110841        0.0041\n",
      "BFGS:   38 11:17:19    -9499.110845        0.0034\n",
      "BFGS:   39 11:17:19    -9499.110848        0.0029\n",
      "Enthalpy components at T = 298.00 K:\n",
      "===============================\n",
      "E_pot              -9499.111 eV\n",
      "E_ZPE                  4.841 eV\n",
      "Cv_trans (0->T)        0.039 eV\n",
      "Cv_rot (0->T)          0.039 eV\n",
      "Cv_vib (0->T)          0.195 eV\n",
      "(C_v -> C_p)           0.026 eV\n",
      "-------------------------------\n",
      "H                  -9493.971 eV\n",
      "===============================\n",
      "Entropy components at T = 298.00 K and P = 101325.0 Pa:\n",
      "=================================================\n",
      "                           S               T*S\n",
      "S_trans (1 bar)    0.0017382 eV/K        0.518 eV\n",
      "S_rot              0.0012567 eV/K        0.374 eV\n",
      "S_elec             0.0000000 eV/K        0.000 eV\n",
      "S_vib              0.0013871 eV/K        0.413 eV\n",
      "S (1 bar -> P)    -0.0000011 eV/K       -0.000 eV\n",
      "-------------------------------------------------\n",
      "S                  0.0043808 eV/K        1.305 eV\n",
      "=================================================\n",
      "Enthalpy components at T = 298.00 K:\n",
      "===============================\n",
      "E_pot              -9499.111 eV\n",
      "E_ZPE                  4.841 eV\n",
      "Cv_trans (0->T)        0.039 eV\n",
      "Cv_rot (0->T)          0.039 eV\n",
      "Cv_vib (0->T)          0.195 eV\n",
      "(C_v -> C_p)           0.026 eV\n",
      "-------------------------------\n",
      "H                  -9493.971 eV\n",
      "===============================\n",
      "\n",
      "Entropy components at T = 298.00 K and P = 101325.0 Pa:\n",
      "=================================================\n",
      "                           S               T*S\n",
      "S_trans (1 bar)    0.0017382 eV/K        0.518 eV\n",
      "S_rot              0.0012567 eV/K        0.374 eV\n",
      "S_elec             0.0000000 eV/K        0.000 eV\n",
      "S_vib              0.0013871 eV/K        0.413 eV\n",
      "S (1 bar -> P)    -0.0000011 eV/K       -0.000 eV\n",
      "-------------------------------------------------\n",
      "S                  0.0043808 eV/K        1.305 eV\n",
      "=================================================\n",
      "\n",
      "Free energy components at T = 298.00 K and P = 101325.0 Pa:\n",
      "=======================\n",
      "    H      -9493.971 eV\n",
      " -T*S         -1.305 eV\n",
      "-----------------------\n",
      "    G      -9495.277 eV\n",
      "=======================\n",
      "-348.94500239648306\n",
      "0\n",
      "4\n",
      "/Users/liu5/Documents/Auto3D_pkg/example/files/20220627-111133_smiles/smiles_out_ANI2x_G.sdf\n"
     ]
    }
   ],
   "source": [
    "\"\"\"\n",
    "You need to define a function that gets the unique ID and temperature for each molecules in the input path.\n",
    "The mol object is an OpenBabel pybel Molecule object.\n",
    "\n",
    "For example, the following functions works for Auto3D main output. It sets the thermodynamic calculation temperature at 298 K and molecular ID.\n",
    "You can customize the function for other special needs.\n",
    "\"\"\"\n",
    "def get_mol_idx_t(mol):\n",
    "    id = mol.data[\"ID\"]\n",
    "    t = 298\n",
    "    return (id, t)\n",
    "\n",
    "\n",
    "out_thermo = calc_thermo(out, \"ANI2x\", get_mol_idx_t, opt_tol=0.003)\n",
    "print(out_thermo)  #enthalpy, entropy and Gibbs free energy are stored in the SDF file"
   ]
  },
  {
   "cell_type": "code",
   "execution_count": 8,
   "metadata": {},
   "outputs": [
    {
     "name": "stdout",
     "output_type": "stream",
     "text": [
      "Help on function calc_thermo in module Auto3D.ASE.thermo:\n",
      "\n",
      "calc_thermo(path: str, model_name: str, get_mol_idx_t: <built-in function callable>, gpu_idx=0, opt_tol=0.0005, opt_steps=5000)\n",
      "    ASE interface for calculation thermo properties using ANI2xt and AIMNET\n",
      "    path: Input sdf file\n",
      "    model_name: ANI2x, ANI2xt or AIMNET\n",
      "    get_mol_idx_t: a functioin that returns (idx, T) from a pybel mol object\n",
      "    gpu_idx: GPU cuda index\n",
      "    opt_tol: Convergence_threshold for geometry optimization\n",
      "    opt_steps: Maximum geometry optimizaiton steps\n",
      "\n"
     ]
    }
   ],
   "source": [
    "help(calc_thermo)"
   ]
  },
  {
   "cell_type": "code",
   "execution_count": null,
   "metadata": {},
   "outputs": [],
   "source": []
  }
 ],
 "metadata": {
  "kernelspec": {
   "display_name": "Python 3.9.7 ('py39')",
   "language": "python",
   "name": "python3"
  },
  "language_info": {
   "codemirror_mode": {
    "name": "ipython",
    "version": 3
   },
   "file_extension": ".py",
   "mimetype": "text/x-python",
   "name": "python",
   "nbconvert_exporter": "python",
   "pygments_lexer": "ipython3",
   "version": "3.9.7"
  },
  "vscode": {
   "interpreter": {
    "hash": "61b4062b24dfb1010f420dad5aa3bd73a4d2af47d0ec44eafec465a35a9d7239"
   }
  }
 },
 "nbformat": 4,
 "nbformat_minor": 2
}
